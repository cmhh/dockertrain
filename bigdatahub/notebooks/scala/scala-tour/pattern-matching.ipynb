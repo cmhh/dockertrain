{
 "cells": [
  {
   "cell_type": "markdown",
   "metadata": {},
   "source": [
    "<p style=\"float: left;\"><a href=\"case-classes.ipynb\" target=\"_blank\">Previous</a></p>\n",
    "<p style=\"float: right;\"><a href=\"singleton-objects.ipynb\" target=\"_blank\">Next</a></p>\n",
    "<p style=\"text-align:center;\">Tour of Scala</p>\n",
    "<div style=\"clear: both;\"></div>\n",
    "\n",
    "# Pattern Matching\n",
    "\n",
    "Pattern matching is a mechanism for checking a value against a pattern. A successful match can also deconstruct a value into its constituent parts. It is a more powerful version of the `switch` statement in Java and it can likewise be used in place of a series of if/else statements.\n",
    "\n",
    "## Syntax\n",
    "A match expression has a value, the `match` keyword, and at least one `case` clause."
   ]
  },
  {
   "cell_type": "code",
   "execution_count": 1,
   "metadata": {
    "attributes": {
     "classes": [
      "tut"
     ],
     "id": ""
    }
   },
   "outputs": [
    {
     "data": {
      "text/plain": [
       "\u001b[32mimport \u001b[39m\u001b[36mscala.util.Random\n",
       "\n",
       "\u001b[39m\n",
       "\u001b[36mx\u001b[39m: \u001b[32mInt\u001b[39m = \u001b[32m1\u001b[39m\n",
       "\u001b[36mres0_2\u001b[39m: \u001b[32mString\u001b[39m = \u001b[32m\"one\"\u001b[39m"
      ]
     },
     "execution_count": 1,
     "metadata": {},
     "output_type": "execute_result"
    }
   ],
   "source": [
    "import scala.util.Random\n",
    "\n",
    "val x: Int = Random.nextInt(10)\n",
    "\n",
    "x match {\n",
    "  case 0 => \"zero\"\n",
    "  case 1 => \"one\"\n",
    "  case 2 => \"two\"\n",
    "  case _ => \"many\"\n",
    "}"
   ]
  },
  {
   "cell_type": "markdown",
   "metadata": {},
   "source": [
    "The `val x` above is a random integer between 0 and 10. `x` becomes the left operand of the `match` operator and on the right is an expression with four cases. The last case `_` is a \"catch all\" case for any number greater than 2. Cases are also called _alternatives_.\n",
    "\n",
    "Match expressions have a value."
   ]
  },
  {
   "cell_type": "code",
   "execution_count": 2,
   "metadata": {
    "attributes": {
     "classes": [
      "tut"
     ],
     "id": ""
    }
   },
   "outputs": [
    {
     "data": {
      "text/plain": [
       "defined \u001b[32mfunction\u001b[39m \u001b[36mmatchTest\u001b[39m\n",
       "\u001b[36mres1_1\u001b[39m: \u001b[32mString\u001b[39m = \u001b[32m\"many\"\u001b[39m\n",
       "\u001b[36mres1_2\u001b[39m: \u001b[32mString\u001b[39m = \u001b[32m\"one\"\u001b[39m"
      ]
     },
     "execution_count": 2,
     "metadata": {},
     "output_type": "execute_result"
    }
   ],
   "source": [
    "def matchTest(x: Int): String = x match {\n",
    "  case 1 => \"one\"\n",
    "  case 2 => \"two\"\n",
    "  case _ => \"many\"\n",
    "}\n",
    "matchTest(3)  // many\n",
    "matchTest(1)  // one"
   ]
  },
  {
   "cell_type": "markdown",
   "metadata": {},
   "source": [
    "This match expression has a type String because all of the cases return String. Therefore, the function `matchTest` returns a String.\n",
    "\n",
    "## Matching on case classes\n",
    "\n",
    "Case classes are especially useful for pattern matching."
   ]
  },
  {
   "cell_type": "code",
   "execution_count": 3,
   "metadata": {
    "attributes": {
     "classes": [
      "tut"
     ],
     "id": ""
    }
   },
   "outputs": [
    {
     "data": {
      "text/plain": [
       "defined \u001b[32mclass\u001b[39m \u001b[36mNotification\u001b[39m\n",
       "defined \u001b[32mclass\u001b[39m \u001b[36mEmail\u001b[39m\n",
       "defined \u001b[32mclass\u001b[39m \u001b[36mSMS\u001b[39m\n",
       "defined \u001b[32mclass\u001b[39m \u001b[36mVoiceRecording\u001b[39m"
      ]
     },
     "execution_count": 3,
     "metadata": {},
     "output_type": "execute_result"
    }
   ],
   "source": [
    "abstract class Notification\n",
    "\n",
    "case class Email(sender: String, title: String, body: String) extends Notification\n",
    "\n",
    "case class SMS(caller: String, message: String) extends Notification\n",
    "\n",
    "case class VoiceRecording(contactName: String, link: String) extends Notification\n",
    "\n"
   ]
  },
  {
   "cell_type": "markdown",
   "metadata": {},
   "source": [
    "`Notification` is an abstract super class which has three concrete Notification types implemented with case classes `Email`, `SMS`, and `VoiceRecording`. Now we can do pattern matching on these case classes:"
   ]
  },
  {
   "cell_type": "code",
   "execution_count": 4,
   "metadata": {
    "attributes": {
     "classes": [
      "tut"
     ],
     "id": ""
    }
   },
   "outputs": [
    {
     "name": "stdout",
     "output_type": "stream",
     "text": [
      "You got an SMS from 12345! Message: Are you there?\n",
      "you received a Voice Recording from Tom! Click the link to hear it: voicerecording.org/id/123\n"
     ]
    },
    {
     "data": {
      "text/plain": [
       "defined \u001b[32mfunction\u001b[39m \u001b[36mshowNotification\u001b[39m\n",
       "\u001b[36msomeSms\u001b[39m: \u001b[32mSMS\u001b[39m = \u001b[33mSMS\u001b[39m(\u001b[32m\"12345\"\u001b[39m, \u001b[32m\"Are you there?\"\u001b[39m)\n",
       "\u001b[36msomeVoiceRecording\u001b[39m: \u001b[32mVoiceRecording\u001b[39m = \u001b[33mVoiceRecording\u001b[39m(\n",
       "  \u001b[32m\"Tom\"\u001b[39m,\n",
       "  \u001b[32m\"voicerecording.org/id/123\"\u001b[39m\n",
       ")"
      ]
     },
     "execution_count": 4,
     "metadata": {},
     "output_type": "execute_result"
    }
   ],
   "source": [
    "def showNotification(notification: Notification): String = {\n",
    "  notification match {\n",
    "    case Email(email, title, _) =>\n",
    "      s\"You got an email from $email with title: $title\"\n",
    "    case SMS(number, message) =>\n",
    "      s\"You got an SMS from $number! Message: $message\"\n",
    "    case VoiceRecording(name, link) =>\n",
    "      s\"you received a Voice Recording from $name! Click the link to hear it: $link\"\n",
    "  }\n",
    "}\n",
    "val someSms = SMS(\"12345\", \"Are you there?\")\n",
    "val someVoiceRecording = VoiceRecording(\"Tom\", \"voicerecording.org/id/123\")\n",
    "\n",
    "println(showNotification(someSms))  // prints You got an SMS from 12345! Message: Are you there?\n",
    "\n",
    "println(showNotification(someVoiceRecording))  // you received a Voice Recording from Tom! Click the link to hear it: voicerecording.org/id/123"
   ]
  },
  {
   "cell_type": "markdown",
   "metadata": {},
   "source": [
    "The function `showNotification` takes as a parameter the abstract type `Notification` and matches on the type of `Notification` (i.e. it figures out whether it's an `Email`, `SMS`, or `VoiceRecording`). In the `case Email(email, title, _)` the fields `email` and `title` are used in the return value but the `body` field is ignored with `_`.\n",
    "\n",
    "## Pattern guards\n",
    "Pattern guards are simply boolean expressions which are used to make cases more specific. Just add `if <boolean expression>` after the pattern."
   ]
  },
  {
   "cell_type": "code",
   "execution_count": 5,
   "metadata": {
    "attributes": {
     "classes": [
      "tut"
     ],
     "id": ""
    }
   },
   "outputs": [
    {
     "name": "stdout",
     "output_type": "stream",
     "text": [
      "You got an SMS from special someone!\n",
      "you received a Voice Recording from Tom! Click the link to hear it: voicerecording.org/id/123\n",
      "You got an email from special someone!\n",
      "You got an SMS from special someone!\n"
     ]
    },
    {
     "data": {
      "text/plain": [
       "defined \u001b[32mfunction\u001b[39m \u001b[36mshowImportantNotification\u001b[39m\n",
       "\u001b[36mimportantPeopleInfo\u001b[39m: \u001b[32mSeq\u001b[39m[\u001b[32mString\u001b[39m] = \u001b[33mList\u001b[39m(\u001b[32m\"867-5309\"\u001b[39m, \u001b[32m\"jenny@gmail.com\"\u001b[39m)\n",
       "\u001b[36msomeSms\u001b[39m: \u001b[32mSMS\u001b[39m = \u001b[33mSMS\u001b[39m(\u001b[32m\"867-5309\"\u001b[39m, \u001b[32m\"Are you there?\"\u001b[39m)\n",
       "\u001b[36msomeVoiceRecording\u001b[39m: \u001b[32mVoiceRecording\u001b[39m = \u001b[33mVoiceRecording\u001b[39m(\n",
       "  \u001b[32m\"Tom\"\u001b[39m,\n",
       "  \u001b[32m\"voicerecording.org/id/123\"\u001b[39m\n",
       ")\n",
       "\u001b[36mimportantEmail\u001b[39m: \u001b[32mEmail\u001b[39m = \u001b[33mEmail\u001b[39m(\n",
       "  \u001b[32m\"jenny@gmail.com\"\u001b[39m,\n",
       "  \u001b[32m\"Drinks tonight?\"\u001b[39m,\n",
       "  \u001b[32m\"I'm free after 5!\"\u001b[39m\n",
       ")\n",
       "\u001b[36mimportantSms\u001b[39m: \u001b[32mSMS\u001b[39m = \u001b[33mSMS\u001b[39m(\u001b[32m\"867-5309\"\u001b[39m, \u001b[32m\"I'm here! Where are you?\"\u001b[39m)"
      ]
     },
     "execution_count": 5,
     "metadata": {},
     "output_type": "execute_result"
    }
   ],
   "source": [
    "\n",
    "def showImportantNotification(notification: Notification, importantPeopleInfo: Seq[String]): String = {\n",
    "  notification match {\n",
    "    case Email(email, _, _) if importantPeopleInfo.contains(email) =>\n",
    "      \"You got an email from special someone!\"\n",
    "    case SMS(number, _) if importantPeopleInfo.contains(number) =>\n",
    "      \"You got an SMS from special someone!\"\n",
    "    case other =>\n",
    "      showNotification(other) // nothing special, delegate to our original showNotification function\n",
    "  }\n",
    "}\n",
    "\n",
    "val importantPeopleInfo = Seq(\"867-5309\", \"jenny@gmail.com\")\n",
    "\n",
    "val someSms = SMS(\"867-5309\", \"Are you there?\")\n",
    "val someVoiceRecording = VoiceRecording(\"Tom\", \"voicerecording.org/id/123\")\n",
    "val importantEmail = Email(\"jenny@gmail.com\", \"Drinks tonight?\", \"I'm free after 5!\")\n",
    "val importantSms = SMS(\"867-5309\", \"I'm here! Where are you?\")\n",
    "\n",
    "println(showImportantNotification(someSms, importantPeopleInfo))\n",
    "println(showImportantNotification(someVoiceRecording, importantPeopleInfo))\n",
    "println(showImportantNotification(importantEmail, importantPeopleInfo))\n",
    "println(showImportantNotification(importantSms, importantPeopleInfo))"
   ]
  },
  {
   "cell_type": "markdown",
   "metadata": {},
   "source": [
    "In the `case Email(email, _, _) if importantPeopleInfo.contains(email)`, the pattern is matched only if the `email` is in the list of important people.\n",
    "\n",
    "## Matching on type only\n",
    "You can match on the type like so:"
   ]
  },
  {
   "cell_type": "code",
   "execution_count": 6,
   "metadata": {
    "attributes": {
     "classes": [
      "tut"
     ],
     "id": ""
    }
   },
   "outputs": [
    {
     "data": {
      "text/plain": [
       "defined \u001b[32mclass\u001b[39m \u001b[36mDevice\u001b[39m\n",
       "defined \u001b[32mclass\u001b[39m \u001b[36mPhone\u001b[39m\n",
       "defined \u001b[32mclass\u001b[39m \u001b[36mComputer\u001b[39m\n",
       "defined \u001b[32mfunction\u001b[39m \u001b[36mgoIdle\u001b[39m"
      ]
     },
     "execution_count": 6,
     "metadata": {},
     "output_type": "execute_result"
    }
   ],
   "source": [
    "abstract class Device\n",
    "case class Phone(model: String) extends Device{\n",
    "  def screenOff = \"Turning screen off\"\n",
    "}\n",
    "case class Computer(model: String) extends Device {\n",
    "  def screenSaverOn = \"Turning screen saver on...\"\n",
    "}\n",
    "\n",
    "def goIdle(device: Device) = device match {\n",
    "  case p: Phone => p.screenOff\n",
    "  case c: Computer => c.screenSaverOn\n",
    "}"
   ]
  },
  {
   "cell_type": "markdown",
   "metadata": {},
   "source": [
    "`def goIdle` has a different behavior depending on the type of `Device`. This is useful when the case needs to call a method on the pattern. It is a convention to use the first letter of the type as the case identifier (`p` and `c` in this case).\n",
    "\n",
    "## Sealed classes\n",
    "Traits and classes can be marked `sealed` which means all subtypes must be declared in the same file. This assures that all subtypes are known."
   ]
  },
  {
   "cell_type": "code",
   "execution_count": 7,
   "metadata": {
    "attributes": {
     "classes": [
      "tut"
     ],
     "id": ""
    }
   },
   "outputs": [
    {
     "data": {
      "text/plain": [
       "defined \u001b[32mclass\u001b[39m \u001b[36mFurniture\u001b[39m\n",
       "defined \u001b[32mclass\u001b[39m \u001b[36mCouch\u001b[39m\n",
       "defined \u001b[32mclass\u001b[39m \u001b[36mChair\u001b[39m\n",
       "defined \u001b[32mfunction\u001b[39m \u001b[36mfindPlaceToSit\u001b[39m"
      ]
     },
     "execution_count": 7,
     "metadata": {},
     "output_type": "execute_result"
    }
   ],
   "source": [
    "sealed abstract class Furniture\n",
    "case class Couch() extends Furniture\n",
    "case class Chair() extends Furniture\n",
    "\n",
    "def findPlaceToSit(piece: Furniture): String = piece match {\n",
    "  case a: Couch => \"Lie on the couch\"\n",
    "  case b: Chair => \"Sit on the chair\"\n",
    "}"
   ]
  },
  {
   "cell_type": "markdown",
   "metadata": {},
   "source": [
    "This is useful for pattern matching because we don't need a \"catch all\" case.\n",
    "\n",
    "## Notes\n",
    "\n",
    "Scala's pattern matching statement is most useful for matching on algebraic types expressed via [case classes](case-classes.ipynb).\n",
    "Scala also allows the definition of patterns independently of case classes, using `unapply` methods in [extractor objects](extractor-objects.ipynb).\n",
    "<p style=\"float: left;\"><a href=\"case-classes.ipynb\" target=\"_blank\">Previous</a></p>\n",
    "<p style=\"float: right;\"><a href=\"singleton-objects.ipynb\" target=\"_blank\">Next</a></p>\n",
    "<p style=\"text-align:center;\">Tour of Scala</p>\n",
    "<div style=\"clear: both;\"></div>"
   ]
  }
 ],
 "metadata": {
  "kernelspec": {
   "display_name": "Scala",
   "language": "scala",
   "name": "scala"
  },
  "language_info": {
   "codemirror_mode": "text/x-scala",
   "file_extension": ".scala",
   "mimetype": "text/x-scala",
   "name": "scala",
   "nbconvert_exporter": "script",
   "version": "2.12.8"
  }
 },
 "nbformat": 4,
 "nbformat_minor": 2
}
